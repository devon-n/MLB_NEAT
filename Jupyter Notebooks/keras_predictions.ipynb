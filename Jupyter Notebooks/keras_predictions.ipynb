{
 "cells": [
  {
   "cell_type": "code",
   "execution_count": 4,
   "id": "3b00178a-2584-42b2-a514-3bfd196ff198",
   "metadata": {},
   "outputs": [
    {
     "data": {
      "text/html": [
       "<div>\n",
       "<style scoped>\n",
       "    .dataframe tbody tr th:only-of-type {\n",
       "        vertical-align: middle;\n",
       "    }\n",
       "\n",
       "    .dataframe tbody tr th {\n",
       "        vertical-align: top;\n",
       "    }\n",
       "\n",
       "    .dataframe thead th {\n",
       "        text-align: right;\n",
       "    }\n",
       "</style>\n",
       "<table border=\"1\" class=\"dataframe\">\n",
       "  <thead>\n",
       "    <tr style=\"text-align: right;\">\n",
       "      <th></th>\n",
       "      <th>Unnamed: 0</th>\n",
       "      <th>Date</th>\n",
       "      <th>Home</th>\n",
       "      <th>Away</th>\n",
       "      <th>Home Odds</th>\n",
       "      <th>Away Odds</th>\n",
       "    </tr>\n",
       "  </thead>\n",
       "  <tbody>\n",
       "    <tr>\n",
       "      <th>0</th>\n",
       "      <td>0</td>\n",
       "      <td>2021-07-11 23:31:38.166432-04:00</td>\n",
       "      <td>American League</td>\n",
       "      <td>National League</td>\n",
       "      <td>1.97</td>\n",
       "      <td>1.952</td>\n",
       "    </tr>\n",
       "  </tbody>\n",
       "</table>\n",
       "</div>"
      ],
      "text/plain": [
       "   Unnamed: 0                              Date             Home  \\\n",
       "0           0  2021-07-11 23:31:38.166432-04:00  American League   \n",
       "\n",
       "              Away  Home Odds  Away Odds  \n",
       "0  National League       1.97      1.952  "
      ]
     },
     "execution_count": 4,
     "metadata": {},
     "output_type": "execute_result"
    }
   ],
   "source": [
    "# Import libraries\n",
    "import pandas as pd\n",
    "from datetime import datetime\n",
    "import pytz\n",
    "\n",
    "# Keras imports\n",
    "import tensorflow as tf\n",
    "physical_devices = tf.config.list_physical_devices('GPU') \n",
    "tf.config.experimental.set_memory_growth(physical_devices[0], True)\n",
    "import numpy as np\n",
    "from tensorflow import keras\n",
    "from keras.models import Sequential\n",
    "from keras.layers import Dense\n",
    "\n",
    "# Preprocessing\n",
    "from sklearn.preprocessing import MinMaxScaler\n",
    "from sklearn.impute import SimpleImputer\n",
    "\n",
    "# Saving model\n",
    "from keras.models import load_model\n",
    "\n",
    "imputer = SimpleImputer()\n",
    "MMS = MinMaxScaler()\n",
    "model = load_model('../Model.h5')"
   ]
  },
  {
   "cell_type": "code",
   "execution_count": null,
   "id": "52b7e9ce-3d92-4081-8f56-57d61fb2803d",
   "metadata": {},
   "outputs": [],
   "source": [
    "# Today and yesterday date EST\n",
    "tz = pytz.timezone('America/New_York')\n",
    "today = datetime.now(tz)\n",
    "year = today.year\n",
    "\n",
    "# Get future games\n",
    "games = pd.read_csv('./auto_files/future_games.csv')\n",
    "games['Home'] = 'Arizona Diamondbacks'\n",
    "games['Visitor'] = 'Atlanta Braves'"
   ]
  },
  {
   "cell_type": "code",
   "execution_count": 13,
   "id": "e7a5a59e-f0e6-4e23-bde7-9806d335e5b2",
   "metadata": {},
   "outputs": [],
   "source": [
    "# Read stats and only keep necessary columns\n",
    "\n",
    "stats = pd.read_csv('../Scraping/MLB All Stats.csv')\n",
    "\n",
    "# Find a year's columns\n",
    "cols = stats.columns\n",
    "str_cols = [str(col) for col in cols]\n",
    "sum('2021' in s for s in str_cols)\n",
    "remove_dupes = [i[5:] for i in str_cols]\n",
    "one_year_cols = []\n",
    "[one_year_cols.append(x) for x in remove_dupes if x not in one_year_cols]\n",
    "one_year_cols.pop(0)\n",
    "final_cols = [str(year) + ' ' + i for i in one_year_cols]\n",
    "final_cols.insert(0, 'Tm')\n",
    "stats = pd.read_csv('../Scraping/MLB All Stats.csv', usecols=final_cols)\n",
    "\n",
    "# Make home and away stat dfs\n",
    "home_stats = stats.add_prefix('H ')\n",
    "vis_stats = stats.add_prefix('V ')\n",
    "\n",
    "# Rename Team column\n",
    "home_stats.rename(columns={'H Tm': 'Home'}, inplace=True)\n",
    "vis_stats.rename(columns={'V Tm': 'Visitor'}, inplace=True)\n",
    "\n",
    "# Merge Stats and games\n",
    "merged = games.merge(home_stats, on='Home')\n",
    "merged = merged.merge(vis_stats, on='Visitor')\n",
    "x = merged.loc[:,'H 2021 #Bat':]"
   ]
  },
  {
   "cell_type": "code",
   "execution_count": 44,
   "id": "b83f908f-4e51-4a8e-b675-05469b1e3032",
   "metadata": {},
   "outputs": [],
   "source": [
    "# Get previous data so we can fit_transform on it then transform on predictions x\n",
    "\n",
    "data_current = pd.read_csv('../Scraping/Current Stats and Games.csv', parse_dates=['Date'])\n",
    "\n",
    "y = data_current['Home Win']\n",
    "x_current = data_current.loc[:,'H  #Bat':]\n",
    "\n",
    "# Split columns with hyphens\n",
    "# Create function to use on both current and prev stats\n",
    "def fit_transform(x, y):\n",
    "    \n",
    "    x = x.astype(str)\n",
    "    cols_to_delim = []\n",
    "    for col in x.columns:\n",
    "        result = x[col].str.contains(pat='\\d-\\d')\n",
    "        if result.any():\n",
    "            cols_to_delim.append(col)\n",
    "\n",
    "    for col in cols_to_delim:\n",
    "            x[[col + '1', col + '2']] = x[col].str.split('-', expand=True)\n",
    "            del x[col]\n",
    "\n",
    "    x = x.astype(float)\n",
    "    \n",
    "    # Scale and Normalise\n",
    "    x = imputer.fit_transform(x, y)\n",
    "    x = MMS.fit_transform(x)\n",
    "    return x\n",
    "\n",
    "x_current = fit_transform(x_current, y)"
   ]
  },
  {
   "cell_type": "code",
   "execution_count": 47,
   "id": "aec40cd4-bd0b-409b-92d3-cb657273e28e",
   "metadata": {},
   "outputs": [],
   "source": [
    "# Transform predictive columns\n",
    "\n",
    "def transform(x):\n",
    "    \n",
    "    x = x.astype(str)\n",
    "    cols_to_delim = []\n",
    "    for col in x.columns:\n",
    "        result = x[col].str.contains(pat='\\d-\\d')\n",
    "        if result.any():\n",
    "            cols_to_delim.append(col)\n",
    "\n",
    "    for col in cols_to_delim:\n",
    "            x[[col + '1', col + '2']] = x[col].str.split('-', expand=True)\n",
    "            del x[col]\n",
    "\n",
    "    x = x.astype(float)\n",
    "    \n",
    "    # Scale and Normalise\n",
    "    x = imputer.transform(x)\n",
    "    x = MMS.transform(x)\n",
    "    return x\n",
    "\n",
    "x_trans = transform(x)"
   ]
  },
  {
   "cell_type": "code",
   "execution_count": 57,
   "id": "3acf8f5d-6bad-4550-923a-4902c164c10a",
   "metadata": {},
   "outputs": [],
   "source": [
    "preds = model.predict(x_trans)"
   ]
  },
  {
   "cell_type": "code",
   "execution_count": 63,
   "id": "67e3efea-12b9-4ff4-be02-e04c34a241b0",
   "metadata": {},
   "outputs": [
    {
     "data": {
      "text/plain": [
       "array([[0.5478382]], dtype=float32)"
      ]
     },
     "execution_count": 63,
     "metadata": {},
     "output_type": "execute_result"
    }
   ],
   "source": [
    "preds"
   ]
  },
  {
   "cell_type": "code",
   "execution_count": 65,
   "id": "3ed6c8ff-4e5d-45f3-9173-497dcd52543f",
   "metadata": {},
   "outputs": [],
   "source": [
    "games['Predictions'] = preds"
   ]
  },
  {
   "cell_type": "code",
   "execution_count": 71,
   "id": "71fd5a56-2cd1-4c7b-a16c-9c1ebedc5c6c",
   "metadata": {},
   "outputs": [],
   "source": [
    "NE_input = games[['Date', 'Home', 'Visitor', 'Home Odds', 'Away Odds', 'Predictions']]"
   ]
  },
  {
   "cell_type": "code",
   "execution_count": 76,
   "id": "7d7b54cb-8324-4b8a-9329-a78559fe8367",
   "metadata": {},
   "outputs": [],
   "source": [
    "NE_input.to_csv('./auto_files/ne_input.csv', index=False)"
   ]
  },
  {
   "cell_type": "code",
   "execution_count": 77,
   "id": "f44dfd97-8d8b-4e60-8bb4-b26f7fe4cc5a",
   "metadata": {},
   "outputs": [
    {
     "data": {
      "text/html": [
       "<div>\n",
       "<style scoped>\n",
       "    .dataframe tbody tr th:only-of-type {\n",
       "        vertical-align: middle;\n",
       "    }\n",
       "\n",
       "    .dataframe tbody tr th {\n",
       "        vertical-align: top;\n",
       "    }\n",
       "\n",
       "    .dataframe thead th {\n",
       "        text-align: right;\n",
       "    }\n",
       "</style>\n",
       "<table border=\"1\" class=\"dataframe\">\n",
       "  <thead>\n",
       "    <tr style=\"text-align: right;\">\n",
       "      <th></th>\n",
       "      <th>Unnamed: 0</th>\n",
       "      <th>Date</th>\n",
       "      <th>Home</th>\n",
       "      <th>Away</th>\n",
       "      <th>Home Odds</th>\n",
       "      <th>Away Odds</th>\n",
       "      <th>Visitor</th>\n",
       "      <th>Predictions</th>\n",
       "    </tr>\n",
       "  </thead>\n",
       "  <tbody>\n",
       "    <tr>\n",
       "      <th>0</th>\n",
       "      <td>0</td>\n",
       "      <td>2021-07-11 23:31:38.166432-04:00</td>\n",
       "      <td>Arizona Diamondbacks</td>\n",
       "      <td>National League</td>\n",
       "      <td>1.97</td>\n",
       "      <td>1.952</td>\n",
       "      <td>Atlanta Braves</td>\n",
       "      <td>0.547838</td>\n",
       "    </tr>\n",
       "  </tbody>\n",
       "</table>\n",
       "</div>"
      ],
      "text/plain": [
       "   Unnamed: 0                              Date                  Home  \\\n",
       "0           0  2021-07-11 23:31:38.166432-04:00  Arizona Diamondbacks   \n",
       "\n",
       "              Away  Home Odds  Away Odds         Visitor  Predictions  \n",
       "0  National League       1.97      1.952  Atlanta Braves     0.547838  "
      ]
     },
     "execution_count": 77,
     "metadata": {},
     "output_type": "execute_result"
    }
   ],
   "source": [
    "games"
   ]
  },
  {
   "cell_type": "code",
   "execution_count": null,
   "id": "e516cb9b-7659-483b-830a-b182b0d43a1c",
   "metadata": {},
   "outputs": [],
   "source": []
  }
 ],
 "metadata": {
  "kernelspec": {
   "display_name": "Python 3",
   "language": "python",
   "name": "python3"
  },
  "language_info": {
   "codemirror_mode": {
    "name": "ipython",
    "version": 3
   },
   "file_extension": ".py",
   "mimetype": "text/x-python",
   "name": "python",
   "nbconvert_exporter": "python",
   "pygments_lexer": "ipython3",
   "version": "3.7.10"
  }
 },
 "nbformat": 4,
 "nbformat_minor": 5
}
