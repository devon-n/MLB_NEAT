{
 "cells": [
  {
   "cell_type": "code",
   "execution_count": 1,
   "id": "be38fa4b-a6db-4f35-b971-9aefe3fe29a2",
   "metadata": {},
   "outputs": [],
   "source": [
    "# Scrape odds from odds portal\n",
    "import time\n",
    "import requests\n",
    "import pandas as pd\n",
    "from datetime import datetime, timedelta\n",
    "import pytz\n",
    "from pathlib import Path\n",
    "from selenium import webdriver \n",
    "from selenium.webdriver.chrome.options import Options\n",
    "chrome_options = Options()\n",
    "#chrome_options.add_argument(\"--disable-extensions\")\n",
    "#chrome_options.add_argument(\"--disable-gpu\")\n",
    "#chrome_options.add_argument(\"--no-sandbox\") # linux only\n",
    "# chrome_options.add_argument(\"--headless\")\n",
    "# chrome_options.headless = True # also works\n",
    "PATH = Path('../chromedriver')\n",
    "driver = webdriver.Chrome(executable_path=PATH, options=chrome_options)\n",
    "driver.get('https://www.pinnacle.com/en/baseball/mlb/matchups')\n",
    "time.sleep(3)\n",
    "\n",
    "tz = pytz.timezone('America/New_York')\n",
    "today = datetime.now(tz)\n",
    "yesterday = today - timedelta(days = 1)\n",
    "year = today.year\n",
    "month = today.month\n",
    "\n",
    "# Use yesterdays games to search for results on oddsportal.com\n",
    "# As OP.com messes with its dates sometimes"
   ]
  },
  {
   "cell_type": "code",
   "execution_count": 6,
   "id": "9aed8db8-03f0-4b96-91df-c18fe3b9990d",
   "metadata": {},
   "outputs": [],
   "source": [
    "# Change timezone to EST\n",
    "# Change in account settings on pinnacle\n",
    "\n",
    "games = []\n",
    "\n",
    "# For loop for each game\n",
    "# Get the team names\n",
    "ele = driver.find_element_by_tag_name('div.style_participants__FetcR')\n",
    "team1, team2 = ele.text.split('\\n')\n",
    "\n",
    "# Get odds\n",
    "odds = driver.find_elements_by_tag_name('span.price')\n",
    "odd1, odd2 = float(odds[0].text), float(odds[1].text)\n",
    "\n",
    "# Save each game as dict\n",
    "game_dict = {\n",
    "    'Date': str(today),\n",
    "    'Home': team1,\n",
    "    'Vis': team2,\n",
    "    'Home Odds': odd1,\n",
    "    'Vis Odds': odd2\n",
    "}\n",
    "\n",
    "# Save each game to games array\n",
    "games.append(game_dict)\n",
    "\n",
    "# Create dataframe of games and odds\n",
    "future_games_df = pd.DataFrame(games)\n",
    "\n",
    "# Save to CSV for Keras\n",
    "future_games_df.to_csv('auto_files/future_games.csv', index=False)"
   ]
  },
  {
   "cell_type": "code",
   "execution_count": 8,
   "id": "87a0ff5a-f42f-483f-9e5f-e108103454c4",
   "metadata": {},
   "outputs": [],
   "source": [
    "driver.get('https://www.oddsportal.com/baseball/usa/mlb/results/#/page/1/')"
   ]
  },
  {
   "cell_type": "code",
   "execution_count": 9,
   "id": "3715847f-4910-47e3-85de-10a7829f79ad",
   "metadata": {},
   "outputs": [],
   "source": [
    "# Change timezone to Eastern USA\n",
    "\n",
    "time.sleep(3)\n",
    "timezone = driver.find_elements_by_class_name('user-header-fakeselect')\n",
    "timezone[1].click()\n",
    "time.sleep(2)\n",
    "driver.find_element_by_xpath('/html/body/div[1]/div/div[2]/div[7]/div/a[40]').click()"
   ]
  },
  {
   "cell_type": "code",
   "execution_count": 24,
   "id": "7b92981a-4f36-4e70-87d1-444e3dc7b9d3",
   "metadata": {},
   "outputs": [],
   "source": [
    "odds_list = []\n",
    "\n",
    "# Scrape yesterdays results and store to csv(same csv as future games)\n",
    "table = driver.find_element_by_tag_name('tbody')\n",
    "\n",
    "rows = table.find_elements_by_tag_name('tr')\n",
    "\n",
    "for row in rows:\n",
    "    try:\n",
    "        date = row.find_element_by_css_selector('th.first2.tl').text\n",
    "    except:\n",
    "        cols = row.find_elements_by_tag_name('td')\n",
    "\n",
    "        if len(cols) > 5:\n",
    "            teams = cols[1].text\n",
    "            teams = teams.replace('\\n', '')\n",
    "            if ' - ' in teams:\n",
    "                home_team = teams.split(' - ')[0]\n",
    "                vis_team = teams.split(' - ')[1]\n",
    "            score = cols[2].text\n",
    "            home_odds = cols[3].text\n",
    "            vis_odds = cols[4].text\n",
    "            if ':' in score:\n",
    "                home_score = int(score.split(':')[0])\n",
    "                vis_score = int(score.split(':')[1])\n",
    "                outcome = True if home_score > vis_score else False\n",
    "            \n",
    "            if 'Yesterday' in date and score:\n",
    "                odds_dict = {\n",
    "                    'Date': yesterday,\n",
    "                    'Home': home_team,\n",
    "                    'Visitor': vis_team,\n",
    "                    'Home Odds': home_odds,\n",
    "                    'Vis Odds': vis_odds,\n",
    "                    'Home Score': home_score,\n",
    "                    'Vis Score': vis_score,\n",
    "                    'Home Win': outcome                   \n",
    "                }\n",
    "\n",
    "                odds_list.append(odds_dict)"
   ]
  },
  {
   "cell_type": "code",
   "execution_count": 27,
   "id": "2345ed49-6586-497a-bb88-0cbe2ab0861b",
   "metadata": {
    "tags": []
   },
   "outputs": [],
   "source": [
    "# Create dataframe of past games and results\n",
    "past_games_df = pd.DataFrame(odds_list)\n",
    "\n",
    "# Save file\n",
    "past_games_df.to_csv('auto_files/yesterdays_results.csv', index=False)"
   ]
  },
  {
   "cell_type": "code",
   "execution_count": null,
   "id": "bdd5f932-9a83-4c13-a294-9eda11ea6b65",
   "metadata": {},
   "outputs": [],
   "source": []
  }
 ],
 "metadata": {
  "kernelspec": {
   "display_name": "Python 3",
   "language": "python",
   "name": "python3"
  },
  "language_info": {
   "codemirror_mode": {
    "name": "ipython",
    "version": 3
   },
   "file_extension": ".py",
   "mimetype": "text/x-python",
   "name": "python",
   "nbconvert_exporter": "python",
   "pygments_lexer": "ipython3",
   "version": "3.7.10"
  }
 },
 "nbformat": 4,
 "nbformat_minor": 5
}
